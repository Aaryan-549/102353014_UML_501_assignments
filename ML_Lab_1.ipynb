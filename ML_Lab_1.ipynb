{
  "nbformat": 4,
  "nbformat_minor": 0,
  "metadata": {
    "colab": {
      "provenance": [],
      "collapsed_sections": [
        "PLKozihw4l_V",
        "y3M8e3sI5C9w",
        "KYAo3VH543Tg"
      ],
      "toc_visible": true
    },
    "kernelspec": {
      "name": "python3",
      "display_name": "Python 3"
    },
    "language_info": {
      "name": "python"
    }
  },
  "cells": [
    {
      "cell_type": "markdown",
      "source": [
        "#Aaryan Beniwal 102353014 3C53"
      ],
      "metadata": {
        "id": "xoLVxPfd4r0e"
      }
    },
    {
      "cell_type": "markdown",
      "source": [
        "##Importing"
      ],
      "metadata": {
        "id": "PLKozihw4l_V"
      }
    },
    {
      "cell_type": "code",
      "execution_count": 2,
      "metadata": {
        "id": "ffXsJFZ_16nb"
      },
      "outputs": [],
      "source": [
        "import  numpy as np"
      ]
    },
    {
      "cell_type": "markdown",
      "source": [
        "##Q1"
      ],
      "metadata": {
        "id": "y3M8e3sI5C9w"
      }
    },
    {
      "cell_type": "markdown",
      "source": [
        "###Q1 (a)"
      ],
      "metadata": {
        "id": "gZ9JbnHa4yV2"
      }
    },
    {
      "cell_type": "code",
      "source": [
        "arr = np.array([1, 2, 3, 6, 4, 5])\n",
        "rev = np.flip(arr)\n",
        "print(rev)"
      ],
      "metadata": {
        "colab": {
          "base_uri": "https://localhost:8080/"
        },
        "id": "y-otvkMU2hVm",
        "outputId": "2c0aab98-0773-468e-b857-74ec482800d0"
      },
      "execution_count": null,
      "outputs": [
        {
          "output_type": "stream",
          "name": "stdout",
          "text": [
            "[5 4 6 3 2 1]\n"
          ]
        }
      ]
    },
    {
      "cell_type": "markdown",
      "source": [
        "###Q1 (b)"
      ],
      "metadata": {
        "id": "KYAo3VH543Tg"
      }
    },
    {
      "cell_type": "code",
      "source": [
        "array1 = np.array([[1, 2, 3], [2, 4, 5], [1, 2, 3]])\n",
        "flattened_method1 = array1.flatten()\n",
        "flattened_method2 = array1.reshape(-1)\n",
        "print(\"(method 1 - flatten()):\", flattened_method1)\n",
        "print(\"(method 2 - reshape(-1)):\", flattened_method2)"
      ],
      "metadata": {
        "colab": {
          "base_uri": "https://localhost:8080/"
        },
        "id": "tQQtnxbj3EtF",
        "outputId": "1f48f5a7-738b-44da-df6a-ae6e2601c4c9"
      },
      "execution_count": null,
      "outputs": [
        {
          "output_type": "stream",
          "name": "stdout",
          "text": [
            "(method 1 - flatten()): [1 2 3 2 4 5 1 2 3]\n",
            "(method 2 - reshape(-1)): [1 2 3 2 4 5 1 2 3]\n"
          ]
        }
      ]
    },
    {
      "cell_type": "markdown",
      "source": [
        "###Q1 (c)"
      ],
      "metadata": {
        "id": "p4yUqEEJ445x"
      }
    },
    {
      "cell_type": "code",
      "source": [
        "import numpy as np\n",
        "\n",
        "arr1 = np.array([[1, 2], [3, 4]])\n",
        "arr2 = np.array([[1, 2], [3, 4]])\n",
        "comparison_result = (arr1 == arr2)\n",
        "print(comparison_result)"
      ],
      "metadata": {
        "colab": {
          "base_uri": "https://localhost:8080/"
        },
        "id": "EOc8h7MG4MZS",
        "outputId": "c23a3f9c-7f12-427f-dd1d-8c42352cf6ca"
      },
      "execution_count": null,
      "outputs": [
        {
          "output_type": "stream",
          "name": "stdout",
          "text": [
            "[[ True  True]\n",
            " [ True  True]]\n"
          ]
        }
      ]
    },
    {
      "cell_type": "markdown",
      "source": [
        "###Q1 (d)"
      ],
      "metadata": {
        "id": "_ITWemfF5GPq"
      }
    },
    {
      "cell_type": "code",
      "source": [
        "import numpy as np\n",
        "from collections import Counter\n",
        "\n",
        "x = np.array([1, 2, 3, 4, 5, 1, 2, 1, 1, 1])\n",
        "counts_x = Counter(x)\n",
        "most_common_x = counts_x.most_common(1)\n",
        "most_frequent_value_x = most_common_x[0][0]\n",
        "indices_x = np.where(x == most_frequent_value_x)[0]\n",
        "print(most_frequent_value_x)\n",
        "print(indices_x)\n",
        "\n",
        "y = np.array([1, 1, 1, 2, 3, 4, 2, 4, 3, 3])\n",
        "counts_y = Counter(y)\n",
        "most_common_y = counts_y.most_common(1)\n",
        "most_frequent_value_y = most_common_y[0][0]\n",
        "indices_y = np.where(y == most_frequent_value_y)[0]\n",
        "print(most_frequent_value_y)\n",
        "print(indices_y)"
      ],
      "metadata": {
        "colab": {
          "base_uri": "https://localhost:8080/"
        },
        "id": "Sjd2U7MU5LHz",
        "outputId": "f44d2b1b-43e5-4f06-fe9d-526bc8559606"
      },
      "execution_count": null,
      "outputs": [
        {
          "output_type": "stream",
          "name": "stdout",
          "text": [
            "1\n",
            "[0 5 7 8 9]\n",
            "1\n",
            "[0 1 2]\n"
          ]
        }
      ]
    },
    {
      "cell_type": "markdown",
      "source": [
        "###Q1 (e)"
      ],
      "metadata": {
        "id": "NiI1-baF5Rx6"
      }
    },
    {
      "cell_type": "code",
      "source": [
        "import numpy as np\n",
        "\n",
        "gfg = np.matrix('[4, 1, 9; 12, 3, 1; 4, 5, 6]')\n",
        "\n",
        "sum_all_elements = np.sum(gfg)\n",
        "print(sum_all_elements)\n",
        "\n",
        "sum_row_wise = np.sum(gfg, axis=1)\n",
        "print(sum_row_wise)\n",
        "\n",
        "sum_column_wise = np.sum(gfg, axis=0)\n",
        "print(sum_column_wise)"
      ],
      "metadata": {
        "colab": {
          "base_uri": "https://localhost:8080/"
        },
        "id": "LIAZAmzf5Tm2",
        "outputId": "a20ffe4e-4467-472d-bea5-ff85137b0356"
      },
      "execution_count": null,
      "outputs": [
        {
          "output_type": "stream",
          "name": "stdout",
          "text": [
            "45\n",
            "[[14]\n",
            " [16]\n",
            " [15]]\n",
            "[[20  9 16]]\n"
          ]
        }
      ]
    },
    {
      "cell_type": "markdown",
      "source": [
        "###Q1 (f)"
      ],
      "metadata": {
        "id": "gJVPPUuS5dTM"
      }
    },
    {
      "cell_type": "code",
      "source": [
        "import numpy as np\n",
        "\n",
        "n_array = np.array([[55, 25, 15], [30, 44, 2], [11, 45, 77]])\n",
        "\n",
        "sum_diagonal = np.trace(n_array)\n",
        "print(sum_diagonal)\n",
        "\n",
        "eigen_values = np.linalg.eigvals(n_array)\n",
        "print(eigen_values)\n",
        "\n",
        "eigen_values, eigen_vectors = np.linalg.eig(n_array)\n",
        "print(eigen_vectors)\n",
        "\n",
        "inverse_matrix = np.linalg.inv(n_array)\n",
        "print(inverse_matrix)\n",
        "\n",
        "determinant = np.linalg.det(n_array)\n",
        "print(determinant)"
      ],
      "metadata": {
        "colab": {
          "base_uri": "https://localhost:8080/"
        },
        "id": "OlvNRObV5eul",
        "outputId": "f839780a-7813-465f-a474-30e6e09ec73e"
      },
      "execution_count": null,
      "outputs": [
        {
          "output_type": "stream",
          "name": "stdout",
          "text": [
            "176\n",
            "[98.16835147 28.097044   49.73460452]\n",
            "[[ 0.4574917   0.34637121 -0.15017693]\n",
            " [ 0.28447814 -0.72784061 -0.4852124 ]\n",
            " [ 0.84248058  0.59184038  0.8614034 ]]\n",
            "[[ 0.02404141 -0.00911212 -0.00444671]\n",
            " [-0.01667882  0.02966905  0.0024785 ]\n",
            " [ 0.00631287 -0.01603732  0.01217379]]\n",
            "137180.0000000001\n"
          ]
        }
      ]
    },
    {
      "cell_type": "markdown",
      "source": [
        "###Q1 (g)"
      ],
      "metadata": {
        "id": "zndYpg0M5hhA"
      }
    },
    {
      "cell_type": "code",
      "source": [
        "import numpy as np\n",
        "\n",
        "p1 = np.array([[1, 2], [2, 3]])\n",
        "q1 = np.array([[4, 5], [6, 7]])\n",
        "\n",
        "multiplication_1 = np.dot(p1, q1)\n",
        "print(multiplication_1)\n",
        "\n",
        "covariance_1 = np.cov(p1, q1)\n",
        "print(covariance_1)\n",
        "\n",
        "q2 = np.array([[4, 5, 1], [6, 7, 2]])\n",
        "p2 = np.array([[1, 2], [2, 3], [4, 5]])\n",
        "\n",
        "multiplication_2 = np.dot(p2, q2)\n",
        "print(multiplication_2)\n",
        "\n",
        "covariance_2_p_flat = np.cov(p2.flatten())\n",
        "print(covariance_2_p_flat)"
      ],
      "metadata": {
        "colab": {
          "base_uri": "https://localhost:8080/"
        },
        "id": "8V8-7iDB5gWW",
        "outputId": "0c2a583e-1dcd-407f-938e-a205e40a99ab"
      },
      "execution_count": null,
      "outputs": [
        {
          "output_type": "stream",
          "name": "stdout",
          "text": [
            "[[16 19]\n",
            " [26 31]]\n",
            "[[0.5 0.5 0.5 0.5]\n",
            " [0.5 0.5 0.5 0.5]\n",
            " [0.5 0.5 0.5 0.5]\n",
            " [0.5 0.5 0.5 0.5]]\n",
            "[[16 19  5]\n",
            " [26 31  8]\n",
            " [46 55 14]]\n",
            "2.1666666666666665\n"
          ]
        }
      ]
    },
    {
      "cell_type": "markdown",
      "source": [
        "###Q1 (h)"
      ],
      "metadata": {
        "id": "xEjsm65Z5rPY"
      }
    },
    {
      "cell_type": "code",
      "source": [
        "import numpy as np\n",
        "\n",
        "x_mat = np.array([[2, 3, 4], [3, 2, 9]])\n",
        "y_mat = np.array([[1, 5, 0], [5, 10, 3]])\n",
        "\n",
        "if x_mat.shape[1] == y_mat.shape[0]:\n",
        "    inner_product_xy = np.dot(x_mat, y_mat)\n",
        "    print(inner_product_xy)\n",
        "elif x_mat.shape[0] == y_mat.shape[1]:\n",
        "    inner_product_yx = np.dot(y_mat, x_mat)\n",
        "    print(inner_product_yx)\n",
        "else:\n",
        "    element_wise_product = x_mat * y_mat\n",
        "    print(element_wise_product)\n",
        "\n",
        "outer_product = np.outer(x_mat.flatten(), y_mat.flatten())\n",
        "print(outer_product)\n",
        "\n",
        "cartesian_product = np.kron(x_mat, y_mat)\n",
        "print(cartesian_product)"
      ],
      "metadata": {
        "colab": {
          "base_uri": "https://localhost:8080/"
        },
        "id": "f3ARl-ck5psw",
        "outputId": "a11cefb8-e339-4e6b-edd2-a0fdced1b043"
      },
      "execution_count": null,
      "outputs": [
        {
          "output_type": "stream",
          "name": "stdout",
          "text": [
            "[[ 2 15  0]\n",
            " [15 20 27]]\n",
            "[[ 2 10  0 10 20  6]\n",
            " [ 3 15  0 15 30  9]\n",
            " [ 4 20  0 20 40 12]\n",
            " [ 3 15  0 15 30  9]\n",
            " [ 2 10  0 10 20  6]\n",
            " [ 9 45  0 45 90 27]]\n",
            "[[ 2 10  0  3 15  0  4 20  0]\n",
            " [10 20  6 15 30  9 20 40 12]\n",
            " [ 3 15  0  2 10  0  9 45  0]\n",
            " [15 30  9 10 20  6 45 90 27]]\n"
          ]
        }
      ]
    },
    {
      "cell_type": "markdown",
      "source": [
        "##Q2"
      ],
      "metadata": {
        "id": "ZxeRzzo95zmz"
      }
    },
    {
      "cell_type": "markdown",
      "source": [
        "###Q2 (a)"
      ],
      "metadata": {
        "id": "8ghEuAAI6MYf"
      }
    },
    {
      "cell_type": "code",
      "source": [
        "#1)\n",
        "array = np.array([[1, -2, 3],[-4, 5, -6]])\n",
        "\n",
        "mod_val=np.abs(array)\n",
        "print(mod_val)\n",
        "\n",
        "#2\n",
        "flat_percentiles = np.percentile(array, [25, 50, 75])\n",
        "print(\"\\nPercentiles (Flattened array):\", flat_percentiles)\n",
        "\n",
        "# Column-wise\n",
        "col_percentiles = np.percentile(array, [25, 50, 75], axis=0)\n",
        "print(\"\\nColumn-wise percentiles:\\n\", col_percentiles)\n",
        "\n",
        "# Row-wise\n",
        "row_percentiles = np.percentile(array, [25, 50, 75], axis=1)\n",
        "print(\"\\nRow-wise percentiles:\\n\", row_percentiles)\n",
        "\n",
        "#3\n",
        "\n",
        "# Flattened\n",
        "print(\"Flattened:\")\n",
        "print(\"Mean:\", np.mean(array))\n",
        "print(\"Median:\", np.median(array))\n",
        "print(\"Standard Deviation:\", np.std(array))\n",
        "\n",
        "# Column-wise\n",
        "print(\"\\nColumn-wise:\")\n",
        "print(\"Mean:\", np.mean(array, axis=0))\n",
        "print(\"Median:\", np.median(array, axis=0))\n",
        "print(\"Standard Deviation:\", np.std(array, axis=0))\n",
        "\n",
        "# Row-wise\n",
        "print(\"\\nRow-wise:\")\n",
        "print(\"Mean:\", np.mean(array, axis=1))\n",
        "print(\"Median:\", np.median(array, axis=1))\n",
        "print(\"Standard Deviation:\", np.std(array, axis=1))"
      ],
      "metadata": {
        "id": "aHVQlhrW5vvk",
        "colab": {
          "base_uri": "https://localhost:8080/"
        },
        "outputId": "dc22f284-f596-41ff-ef0c-71ed677e090e"
      },
      "execution_count": 3,
      "outputs": [
        {
          "output_type": "stream",
          "name": "stdout",
          "text": [
            "[[1 2 3]\n",
            " [4 5 6]]\n",
            "\n",
            "Percentiles (Flattened array): [-3.5 -0.5  2.5]\n",
            "\n",
            "Column-wise percentiles:\n",
            " [[-2.75 -0.25 -3.75]\n",
            " [-1.5   1.5  -1.5 ]\n",
            " [-0.25  3.25  0.75]]\n",
            "\n",
            "Row-wise percentiles:\n",
            " [[-0.5 -5. ]\n",
            " [ 1.  -4. ]\n",
            " [ 2.   0.5]]\n",
            "Flattened:\n",
            "Mean: -0.5\n",
            "Median: -0.5\n",
            "Standard Deviation: 3.8622100754188224\n",
            "\n",
            "Column-wise:\n",
            "Mean: [-1.5  1.5 -1.5]\n",
            "Median: [-1.5  1.5 -1.5]\n",
            "Standard Deviation: [2.5 3.5 4.5]\n",
            "\n",
            "Row-wise:\n",
            "Mean: [ 0.66666667 -1.66666667]\n",
            "Median: [ 1. -4.]\n",
            "Standard Deviation: [2.05480467 4.78423336]\n"
          ]
        }
      ]
    },
    {
      "cell_type": "markdown",
      "source": [
        "###Q2 (b)"
      ],
      "metadata": {
        "id": "u9zOLpBOBB-s"
      }
    },
    {
      "cell_type": "code",
      "source": [
        "a = np.array([-1.8, -1.6, -0.5, 0.5,1.6, 1.8, 3.0])\n",
        "\n",
        "floor_vals = np.floor(a)\n",
        "ceil_vals = np.ceil(a)\n",
        "trunc_vals = np.trunc(a)\n",
        "round_vals = np.round(a)\n",
        "\n",
        "print(\"Original:   \", a)\n",
        "print(\"Floor:      \", floor_vals)\n",
        "print(\"Ceiling:    \", ceil_vals)\n",
        "print(\"Truncated:  \", trunc_vals)\n",
        "print(\"Rounded:    \", round_vals)\n",
        ""
      ],
      "metadata": {
        "colab": {
          "base_uri": "https://localhost:8080/"
        },
        "id": "LiqrmrBzA_GZ",
        "outputId": "08ccdf15-ba1c-47e1-8a88-c6289885b37f"
      },
      "execution_count": 4,
      "outputs": [
        {
          "output_type": "stream",
          "name": "stdout",
          "text": [
            "Original:    [-1.8 -1.6 -0.5  0.5  1.6  1.8  3. ]\n",
            "Floor:       [-2. -2. -1.  0.  1.  1.  3.]\n",
            "Ceiling:     [-1. -1. -0.  1.  2.  2.  3.]\n",
            "Truncated:   [-1. -1. -0.  0.  1.  1.  3.]\n",
            "Rounded:     [-2. -2. -0.  0.  2.  2.  3.]\n"
          ]
        }
      ]
    },
    {
      "cell_type": "markdown",
      "source": [
        "##Q3"
      ],
      "metadata": {
        "id": "iAUaMwaABOiD"
      }
    },
    {
      "cell_type": "markdown",
      "source": [
        "###Q3 (a)"
      ],
      "metadata": {
        "id": "MFh7ntJQBJor"
      }
    },
    {
      "cell_type": "code",
      "source": [
        "array = np.array([10, 52, 62, 16, 16, 54, 453])\n",
        "\n",
        "sorted_array = np.sort(array)\n",
        "print(\"Sorted array:\", sorted_array)\n",
        "\n",
        "# ii\n",
        "sorted_indices = np.argsort(array)\n",
        "print(\"Indices of sorted array:\", sorted_indices)\n",
        "\n",
        "# iii.\n",
        "smallest_4 =sorted_array[:4]\n",
        "print(\"4 smallest elements:\", smallest_4)\n",
        "\n",
        "# iv.\n",
        "largest_5 = np.sort(array)[-5:][::-1]\n",
        "print(\"5 largest elements:\", largest_5)"
      ],
      "metadata": {
        "colab": {
          "base_uri": "https://localhost:8080/"
        },
        "id": "ubNj1P9QBIl6",
        "outputId": "16228627-1176-43c4-fd80-82c3b62c2f22"
      },
      "execution_count": 5,
      "outputs": [
        {
          "output_type": "stream",
          "name": "stdout",
          "text": [
            "Sorted array: [ 10  16  16  52  54  62 453]\n",
            "Indices of sorted array: [0 3 4 1 5 2 6]\n",
            "4 smallest elements: [10 16 16 52]\n",
            "5 largest elements: [453  62  54  52  16]\n"
          ]
        }
      ]
    },
    {
      "cell_type": "markdown",
      "source": [
        "###Q3 (b)"
      ],
      "metadata": {
        "id": "N1DTnqCrBWyd"
      }
    },
    {
      "cell_type": "code",
      "source": [
        "array = np.array([1.0, 1.2, 2.2, 2.0, 3.0, 2.0])\n",
        "\n",
        "#\n",
        "int_ele = array[array % 1 == 0]\n",
        "print(\"Integer elements:\", int_ele)\n",
        "\n",
        "#\n",
        "float_ele = array[array % 1 != 0]\n",
        "print(\"Float elements:\", float_ele)"
      ],
      "metadata": {
        "colab": {
          "base_uri": "https://localhost:8080/"
        },
        "id": "6jWaw1JoBS7S",
        "outputId": "62ae7129-0853-46c1-d128-8f16f8b23027"
      },
      "execution_count": 6,
      "outputs": [
        {
          "output_type": "stream",
          "name": "stdout",
          "text": [
            "Integer elements: [1. 2. 3. 2.]\n",
            "Float elements: [1.2 2.2]\n"
          ]
        }
      ]
    },
    {
      "cell_type": "markdown",
      "source": [
        "##Q4"
      ],
      "metadata": {
        "id": "nInE0rnBDQ1g"
      }
    },
    {
      "cell_type": "markdown",
      "source": [
        "###Q4 (a)"
      ],
      "metadata": {
        "id": "W7xKncwuDRyC"
      }
    },
    {
      "cell_type": "code",
      "source": [
        "from google.colab import files\n",
        "uploaded = files.upload()"
      ],
      "metadata": {
        "colab": {
          "base_uri": "https://localhost:8080/",
          "height": 73
        },
        "id": "k_dYuinfBZ7h",
        "outputId": "afa46196-7f98-4efc-b203-6d999300f90d"
      },
      "execution_count": 8,
      "outputs": [
        {
          "output_type": "display_data",
          "data": {
            "text/plain": [
              "<IPython.core.display.HTML object>"
            ],
            "text/html": [
              "\n",
              "     <input type=\"file\" id=\"files-7aeba7a5-d76f-4e17-ba96-54de0f81d0e4\" name=\"files[]\" multiple disabled\n",
              "        style=\"border:none\" />\n",
              "     <output id=\"result-7aeba7a5-d76f-4e17-ba96-54de0f81d0e4\">\n",
              "      Upload widget is only available when the cell has been executed in the\n",
              "      current browser session. Please rerun this cell to enable.\n",
              "      </output>\n",
              "      <script>// Copyright 2017 Google LLC\n",
              "//\n",
              "// Licensed under the Apache License, Version 2.0 (the \"License\");\n",
              "// you may not use this file except in compliance with the License.\n",
              "// You may obtain a copy of the License at\n",
              "//\n",
              "//      http://www.apache.org/licenses/LICENSE-2.0\n",
              "//\n",
              "// Unless required by applicable law or agreed to in writing, software\n",
              "// distributed under the License is distributed on an \"AS IS\" BASIS,\n",
              "// WITHOUT WARRANTIES OR CONDITIONS OF ANY KIND, either express or implied.\n",
              "// See the License for the specific language governing permissions and\n",
              "// limitations under the License.\n",
              "\n",
              "/**\n",
              " * @fileoverview Helpers for google.colab Python module.\n",
              " */\n",
              "(function(scope) {\n",
              "function span(text, styleAttributes = {}) {\n",
              "  const element = document.createElement('span');\n",
              "  element.textContent = text;\n",
              "  for (const key of Object.keys(styleAttributes)) {\n",
              "    element.style[key] = styleAttributes[key];\n",
              "  }\n",
              "  return element;\n",
              "}\n",
              "\n",
              "// Max number of bytes which will be uploaded at a time.\n",
              "const MAX_PAYLOAD_SIZE = 100 * 1024;\n",
              "\n",
              "function _uploadFiles(inputId, outputId) {\n",
              "  const steps = uploadFilesStep(inputId, outputId);\n",
              "  const outputElement = document.getElementById(outputId);\n",
              "  // Cache steps on the outputElement to make it available for the next call\n",
              "  // to uploadFilesContinue from Python.\n",
              "  outputElement.steps = steps;\n",
              "\n",
              "  return _uploadFilesContinue(outputId);\n",
              "}\n",
              "\n",
              "// This is roughly an async generator (not supported in the browser yet),\n",
              "// where there are multiple asynchronous steps and the Python side is going\n",
              "// to poll for completion of each step.\n",
              "// This uses a Promise to block the python side on completion of each step,\n",
              "// then passes the result of the previous step as the input to the next step.\n",
              "function _uploadFilesContinue(outputId) {\n",
              "  const outputElement = document.getElementById(outputId);\n",
              "  const steps = outputElement.steps;\n",
              "\n",
              "  const next = steps.next(outputElement.lastPromiseValue);\n",
              "  return Promise.resolve(next.value.promise).then((value) => {\n",
              "    // Cache the last promise value to make it available to the next\n",
              "    // step of the generator.\n",
              "    outputElement.lastPromiseValue = value;\n",
              "    return next.value.response;\n",
              "  });\n",
              "}\n",
              "\n",
              "/**\n",
              " * Generator function which is called between each async step of the upload\n",
              " * process.\n",
              " * @param {string} inputId Element ID of the input file picker element.\n",
              " * @param {string} outputId Element ID of the output display.\n",
              " * @return {!Iterable<!Object>} Iterable of next steps.\n",
              " */\n",
              "function* uploadFilesStep(inputId, outputId) {\n",
              "  const inputElement = document.getElementById(inputId);\n",
              "  inputElement.disabled = false;\n",
              "\n",
              "  const outputElement = document.getElementById(outputId);\n",
              "  outputElement.innerHTML = '';\n",
              "\n",
              "  const pickedPromise = new Promise((resolve) => {\n",
              "    inputElement.addEventListener('change', (e) => {\n",
              "      resolve(e.target.files);\n",
              "    });\n",
              "  });\n",
              "\n",
              "  const cancel = document.createElement('button');\n",
              "  inputElement.parentElement.appendChild(cancel);\n",
              "  cancel.textContent = 'Cancel upload';\n",
              "  const cancelPromise = new Promise((resolve) => {\n",
              "    cancel.onclick = () => {\n",
              "      resolve(null);\n",
              "    };\n",
              "  });\n",
              "\n",
              "  // Wait for the user to pick the files.\n",
              "  const files = yield {\n",
              "    promise: Promise.race([pickedPromise, cancelPromise]),\n",
              "    response: {\n",
              "      action: 'starting',\n",
              "    }\n",
              "  };\n",
              "\n",
              "  cancel.remove();\n",
              "\n",
              "  // Disable the input element since further picks are not allowed.\n",
              "  inputElement.disabled = true;\n",
              "\n",
              "  if (!files) {\n",
              "    return {\n",
              "      response: {\n",
              "        action: 'complete',\n",
              "      }\n",
              "    };\n",
              "  }\n",
              "\n",
              "  for (const file of files) {\n",
              "    const li = document.createElement('li');\n",
              "    li.append(span(file.name, {fontWeight: 'bold'}));\n",
              "    li.append(span(\n",
              "        `(${file.type || 'n/a'}) - ${file.size} bytes, ` +\n",
              "        `last modified: ${\n",
              "            file.lastModifiedDate ? file.lastModifiedDate.toLocaleDateString() :\n",
              "                                    'n/a'} - `));\n",
              "    const percent = span('0% done');\n",
              "    li.appendChild(percent);\n",
              "\n",
              "    outputElement.appendChild(li);\n",
              "\n",
              "    const fileDataPromise = new Promise((resolve) => {\n",
              "      const reader = new FileReader();\n",
              "      reader.onload = (e) => {\n",
              "        resolve(e.target.result);\n",
              "      };\n",
              "      reader.readAsArrayBuffer(file);\n",
              "    });\n",
              "    // Wait for the data to be ready.\n",
              "    let fileData = yield {\n",
              "      promise: fileDataPromise,\n",
              "      response: {\n",
              "        action: 'continue',\n",
              "      }\n",
              "    };\n",
              "\n",
              "    // Use a chunked sending to avoid message size limits. See b/62115660.\n",
              "    let position = 0;\n",
              "    do {\n",
              "      const length = Math.min(fileData.byteLength - position, MAX_PAYLOAD_SIZE);\n",
              "      const chunk = new Uint8Array(fileData, position, length);\n",
              "      position += length;\n",
              "\n",
              "      const base64 = btoa(String.fromCharCode.apply(null, chunk));\n",
              "      yield {\n",
              "        response: {\n",
              "          action: 'append',\n",
              "          file: file.name,\n",
              "          data: base64,\n",
              "        },\n",
              "      };\n",
              "\n",
              "      let percentDone = fileData.byteLength === 0 ?\n",
              "          100 :\n",
              "          Math.round((position / fileData.byteLength) * 100);\n",
              "      percent.textContent = `${percentDone}% done`;\n",
              "\n",
              "    } while (position < fileData.byteLength);\n",
              "  }\n",
              "\n",
              "  // All done.\n",
              "  yield {\n",
              "    response: {\n",
              "      action: 'complete',\n",
              "    }\n",
              "  };\n",
              "}\n",
              "\n",
              "scope.google = scope.google || {};\n",
              "scope.google.colab = scope.google.colab || {};\n",
              "scope.google.colab._files = {\n",
              "  _uploadFiles,\n",
              "  _uploadFilesContinue,\n",
              "};\n",
              "})(self);\n",
              "</script> "
            ]
          },
          "metadata": {}
        },
        {
          "output_type": "stream",
          "name": "stdout",
          "text": [
            "Saving Nikon-D500-Sample-Image-3.jpg to Nikon-D500-Sample-Image-3.jpg\n"
          ]
        }
      ]
    },
    {
      "cell_type": "markdown",
      "source": [
        "###Q4 (b)"
      ],
      "metadata": {
        "id": "VQqpkDAbDUWp"
      }
    },
    {
      "cell_type": "code",
      "source": [
        "from PIL import Image, ImageFile\n",
        "import numpy as np\n",
        "\n",
        "ImageFile.LOAD_TRUNCATED_IMAGES = True\n",
        "\n",
        "def img_to_array(path):\n",
        "    try:\n",
        "        img = Image.open(path)\n",
        "        img_arr = np.array(img)\n",
        "\n",
        "        if img_arr.ndim == 2:\n",
        "            print(\"Grayscale image detected\")\n",
        "            np.savetxt(\"image_grayscale.txt\", img_arr, fmt='%d')\n",
        "            return \"grayscale\"\n",
        "\n",
        "        elif img_arr.ndim == 3:\n",
        "            print(\"RGB image detected\")\n",
        "            flat = img_arr.reshape(-1, img_arr.shape[2])\n",
        "            np.savetxt(\"image_rgb.txt\", flat, fmt='%d')\n",
        "            return \"rgb\"\n",
        "\n",
        "        else:\n",
        "            print(\"Image format not recognized\")\n",
        "            return None\n",
        "\n",
        "    except Exception as e:\n",
        "        print(\"Error:\", e)\n",
        "        return None\n",
        "\n",
        "image_type = img_to_array(\"Nikon-D500-Sample-Image-3.jpg\")\n",
        "\n",
        "# Load the saved file based on type\n",
        "if image_type == \"grayscale\":\n",
        "    gray = np.loadtxt(\"image_grayscale.txt\", dtype=int)\n",
        "    print(\"Loaded grayscale shape:\", gray.shape)\n",
        "    print(gray[:5])  # Print only a part\n",
        "elif image_type == \"rgb\":\n",
        "    rgb = np.loadtxt(\"image_rgb.txt\", dtype=int)\n",
        "    print(\"Loaded RGB shape:\", rgb.shape)\n",
        "    print(rgb[:5])  # Print only a part\n",
        "\n",
        "else:\n",
        "    print(\"Could not load the saved image data.\")\n",
        ""
      ],
      "metadata": {
        "colab": {
          "base_uri": "https://localhost:8080/"
        },
        "id": "0277BKa4CGWZ",
        "outputId": "cb57e7ef-7707-4be3-9807-b1dccf730b0e"
      },
      "execution_count": 9,
      "outputs": [
        {
          "output_type": "stream",
          "name": "stdout",
          "text": [
            "RGB image detected\n",
            "Loaded RGB shape: (658028, 3)\n",
            "[[106  44  57]\n",
            " [106  44  55]\n",
            " [107  44  53]\n",
            " [110  45  51]\n",
            " [112  46  50]]\n"
          ]
        }
      ]
    }
  ]
}